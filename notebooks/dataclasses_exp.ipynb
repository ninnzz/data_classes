{
 "cells": [
  {
   "cell_type": "code",
   "execution_count": 27,
   "id": "12943e06",
   "metadata": {},
   "outputs": [],
   "source": [
    "import string\n",
    "import random\n",
    "from dataclasses import dataclass, field"
   ]
  },
  {
   "cell_type": "code",
   "execution_count": 10,
   "id": "fcd4cad2",
   "metadata": {},
   "outputs": [
    {
     "name": "stdout",
     "output_type": "stream",
     "text": [
      "Foo(a='a', b=2, c=[])\n",
      "Foo(a='q', b=3, c=[2, 3])\n",
      "Foo(a='r', b=4, c=['a', 'b'])\n",
      "FooFieldRepr(a='a', b=2)\n",
      "FooFieldRepr(a='f', b=3)\n"
     ]
    }
   ],
   "source": [
    "@dataclass\n",
    "class Foo:\n",
    "    a: str\n",
    "    b: int\n",
    "    c: list[int] = field(default_factory=list)\n",
    "        \n",
    "@dataclass\n",
    "class FooFieldRepr:\n",
    "    a: str\n",
    "    b: int\n",
    "    c: list[int] = field(default_factory=list, repr=False)\n",
    "        \n",
    "x = Foo(a=\"a\", b=2)\n",
    "y = Foo(a=\"q\", b=3, c=[2, 3])\n",
    "z = Foo(a=\"r\", b=4, c=[\"a\", \"b\"])\n",
    "print(x)\n",
    "print(y)\n",
    "print(z)\n",
    "\n",
    "l = FooFieldRepr(a=\"a\", b=2)\n",
    "m = FooFieldRepr(a=\"f\", b=3, c=[6, 7])\n",
    "print(l)\n",
    "print(m)"
   ]
  },
  {
   "cell_type": "markdown",
   "id": "4a56c468",
   "metadata": {},
   "source": [
    "## Dataclass params\n",
    "\n",
    "- repr\n",
    "- eq\n",
    "- order\n",
    "- frozen\n",
    "- slots"
   ]
  },
  {
   "cell_type": "code",
   "execution_count": 15,
   "id": "f3ac2643",
   "metadata": {},
   "outputs": [
    {
     "name": "stdout",
     "output_type": "stream",
     "text": [
      "<__main__.FooWithoutRepr object at 0x1078649d0>\n",
      "Foo(a=1, b=1, c=[])\n",
      "Hello, I'm Juan and I am 30 years old.\n"
     ]
    }
   ],
   "source": [
    "@dataclass(repr=False)\n",
    "class FooWithoutRepr:\n",
    "    x: int\n",
    "    y: int\n",
    "        \n",
    "\n",
    "@dataclass\n",
    "class FooWithCustomRepr:\n",
    "    name: str\n",
    "    age: int\n",
    "    \n",
    "    def __repr__(self):\n",
    "        return f\"Hello, I'm {self.name} and I am {self.age} years old.\"\n",
    "    \n",
    "a = FooWithoutRepr(1, 1)\n",
    "print(a)\n",
    "b = Foo(1, 1)\n",
    "print(b)\n",
    "c = FooWithCustomRepr(name=\"Juan\", age=30)\n",
    "print(c)"
   ]
  },
  {
   "cell_type": "code",
   "execution_count": 22,
   "id": "41b226dc",
   "metadata": {},
   "outputs": [
    {
     "name": "stdout",
     "output_type": "stream",
     "text": [
      "True\n",
      "False\n",
      "False\n"
     ]
    }
   ],
   "source": [
    "@dataclass(eq=True)\n",
    "class Coords:\n",
    "    x: int\n",
    "    y: int\n",
    "\n",
    "        \n",
    "@dataclass(eq=False)\n",
    "class CoordsNoEq:\n",
    "    x: int\n",
    "    y: int\n",
    "        \n",
    "\n",
    "a_eq = Coords(1, 1)\n",
    "b_eq = Coords(1, 1)\n",
    "c_eq = Coords(1, 2)\n",
    "\n",
    "print(a_eq == b_eq)\n",
    "print(b_eq == c_eq)\n",
    "\n",
    "a_nq = CoordsNoEq(1, 1)\n",
    "b_nq = CoordsNoEq(1, 1)\n",
    "\n",
    "# TODO\n",
    "# Think of where this is useful.\n",
    "# Maybe some sort of hashing or as keys on \n",
    "# dictionary?????\n",
    "print(a_nq == b_nq)"
   ]
  },
  {
   "cell_type": "code",
   "execution_count": 33,
   "id": "c081e0a2",
   "metadata": {},
   "outputs": [
    {
     "name": "stdout",
     "output_type": "stream",
     "text": [
      "True\n",
      "False\n",
      "BcAKlGyv, tFqKlQIX, age: 13\n",
      "EIdKHdBE, VpzygbEh, age: 21\n",
      "EIoVGKQl, RpLVzXVx, age: 16\n",
      "EyeLRMUt, RdxIbdEP, age: 16\n",
      "GWkHZqji, qYoTTvrX, age: 18\n",
      "IagdwuLP, qvGpuJXx, age: 53\n",
      "IlterkLs, KNUKAECu, age: 26\n",
      "KymFqnFp, fheMobcp, age: 59\n",
      "LjjvToPA, VjXcHDWA, age: 28\n",
      "LxUGBSLC, ytppsTaZ, age: 46\n",
      "MSLmAJmd, uRXTqVHh, age: 60\n",
      "OHHTxpOz, amyiVCGe, age: 51\n",
      "PQrPmEBX, wCDxkdUj, age: 34\n",
      "PjDYIdTD, rHpAKsFQ, age: 12\n",
      "REsQFWCO, SJRrqZHf, age: 39\n",
      "RFJqZWUY, FEUBJKHo, age: 14\n",
      "SLeocxzA, fcCIIbBI, age: 42\n",
      "SfYeBcWp, hjkzBmnA, age: 18\n",
      "SrDHnsVq, lZeLDPzc, age: 40\n",
      "VCULoyHQ, LbSHUGJd, age: 18\n",
      "VmTQoKBM, colnghgp, age: 14\n",
      "WMQibGuE, HgvSdFcu, age: 17\n",
      "WQOWlhDq, IpkUMsEk, age: 31\n",
      "YTuWKJIR, knCfXhMZ, age: 42\n",
      "ZLTRsyVU, KMbIqdwy, age: 60\n",
      "bcelbWuj, JZHMiCEC, age: 12\n",
      "bvsYdhKw, zLhJyLiJ, age: 40\n",
      "cxpnpDPN, ezyQCjGs, age: 39\n",
      "dhnOQBve, aSJvwhvm, age: 58\n",
      "dvQsibJi, oBkPvTbs, age: 22\n",
      "dwvaEsza, UXEszDFs, age: 23\n",
      "fbKIejiN, PMChFZoa, age: 55\n",
      "fhQiSjVg, CIGRrCDj, age: 29\n",
      "hmyPKCCZ, GBzbzfLw, age: 30\n",
      "iVAYTwtP, nFVvZFuD, age: 20\n",
      "jhMfMxJL, hDJQHtrb, age: 21\n",
      "jiKjbcOi, QyfPvTKd, age: 34\n",
      "kcdvyrZW, fHflkgxX, age: 31\n",
      "kelMaiPg, RPXBzajY, age: 49\n",
      "mzbyUmKx, waztoZuQ, age: 59\n",
      "nAZKGnzb, yMFKGMyJ, age: 37\n",
      "pWQJHceZ, PcWUuuEI, age: 25\n",
      "qyfKCaiA, TmNaikJc, age: 48\n",
      "rJSfrTaP, BEAkdwgG, age: 27\n",
      "rdHBRhxs, WljkjXwY, age: 19\n",
      "tFAKqHHk, QndMyKvU, age: 29\n",
      "uESnyLXA, PBwZUjYT, age: 59\n",
      "wDoPpxuG, pmUiMsrX, age: 27\n",
      "xKmjMDvQ, EZsMnALO, age: 32\n",
      "zINzAlFV, kASxaygC, age: 46\n"
     ]
    }
   ],
   "source": [
    "@dataclass(order=True)\n",
    "class Student:\n",
    "    last_name: str\n",
    "    first_name: str\n",
    "    age: int\n",
    "        \n",
    "    def __repr__(self):\n",
    "        return f\"{self.last_name}, {self.first_name}, age: {self.age}\"\n",
    "\n",
    "def generate_student() -> Student:\n",
    "    \"\"\"\n",
    "    Generates random characters\n",
    "    \"\"\"\n",
    "    char_len = 8\n",
    "    \n",
    "    return Student(\n",
    "        last_name=\"\".join(random.choice(string.ascii_letters) for _ in range(char_len)),\n",
    "        first_name=\"\".join(random.choice(string.ascii_letters) for _ in range(char_len)),\n",
    "        age=random.randint(10, 60)\n",
    "    )\n",
    "    \n",
    "    \n",
    "s1 = Student(\"Alpine\", \"Aster\", 30)\n",
    "s3 = Student(\"Alpine\", \"Best\", 30)\n",
    "\n",
    "print(s1 < s3)\n",
    "print(s3 < s1)\n",
    "\n",
    "num_students = 50\n",
    "students = []\n",
    "for _ in range(num_students):\n",
    "    students.append(generate_student())\n",
    "\n",
    "# Should print sorted students\n",
    "students = sorted(students)\n",
    "for s in students:\n",
    "    print(s)\n"
   ]
  }
 ],
 "metadata": {
  "kernelspec": {
   "display_name": "Python 3 (ipykernel)",
   "language": "python",
   "name": "python3"
  },
  "language_info": {
   "codemirror_mode": {
    "name": "ipython",
    "version": 3
   },
   "file_extension": ".py",
   "mimetype": "text/x-python",
   "name": "python",
   "nbconvert_exporter": "python",
   "pygments_lexer": "ipython3",
   "version": "3.11.1"
  }
 },
 "nbformat": 4,
 "nbformat_minor": 5
}
